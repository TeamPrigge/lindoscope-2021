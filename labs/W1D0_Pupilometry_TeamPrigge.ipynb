{
 "cells": [
  {
   "cell_type": "markdown",
   "metadata": {},
   "source": [
    "**2021 Lindoscope workshop**\n",
    "\n",
    "<p align='center'><img src='https://github.com/TeamPrigge/widgets/blob/main/Lindoscope.png?raw=True'/></p>"
   ]
  },
  {
   "cell_type": "code",
   "execution_count": 175,
   "metadata": {},
   "outputs": [],
   "source": [
    "# @title Install dependencies\n",
    "import pandas as pd\n",
    "import glob\n",
    "import numpy as np\n",
    "import os\n",
    "import matplotlib.pyplot as plt\n",
    "import math\n"
   ]
  },
  {
   "cell_type": "markdown",
   "metadata": {},
   "source": [
    "### Import the data from the local directory\n",
    "Go to the file containg the excel trained data and paste the directory in the path"
   ]
  },
  {
   "cell_type": "code",
   "execution_count": null,
   "metadata": {},
   "outputs": [],
   "source": [
    "######### Importing the data\n",
    "path = r'C:\\Users\\shossein\\Desktop\\LINdoscope_Pupile'\n",
    "path_Preprocessed = r'C:\\Users\\shossein\\Desktop\\LINdoscope_Pupile\\Preprocessed' # use your path\n",
    "\n",
    "######################### Training Data\n",
    "all_training = glob.glob(path + \"/*.csv\")\n",
    "\n",
    "li = []\n",
    "\n",
    "for filename in all_training:\n",
    "    df_training = pd.read_csv(filename, index_col=None, header=2)\n",
    "    li.append(df_training)\n",
    "\n",
    "frame_training = pd.concat(li, axis=0, ignore_index=True)\n",
    "# frame_training\n",
    "######################### Camera & laser analogue\n",
    "all_analogue = glob.glob(path + \"/*.xlsx\")\n",
    "\n",
    "ii = []\n",
    "\n",
    "for filename in all_analogue:\n",
    "    df_analogue = pd.read_excel(filename,  sheet_name = 1, header=0)\n",
    "    ii.append(df_analogue)\n",
    "\n",
    "frame_analogue = pd.concat(ii, axis=1, ignore_index=False)\n",
    "# frame_analogue"
   ]
  },
  {
   "cell_type": "markdown",
   "metadata": {},
   "source": [
    "### Preprocess the data\n",
    "To clean the data we have to first get rid of small liklihood"
   ]
  },
  {
   "cell_type": "code",
   "execution_count": 180,
   "metadata": {},
   "outputs": [],
   "source": [
    "############   preprocessing the data\n",
    "\n",
    "threshold = 0.7 # to accept the coordinate\n",
    "\n",
    "training_filtered = frame_training[(frame_training[\"likelihood\"] >= threshold) # Filtering all concatenated training data\n",
    "         &  (frame_training[\"likelihood.1\"] >= threshold)\n",
    "         &  (frame_training[\"likelihood.2\"] >= threshold)\n",
    "         &  (frame_training[\"likelihood.3\"] >= threshold)] # filtered dataframe"
   ]
  },
  {
   "cell_type": "code",
   "execution_count": 181,
   "metadata": {},
   "outputs": [
    {
     "data": {
      "text/html": [
       "<div>\n",
       "<style scoped>\n",
       "    .dataframe tbody tr th:only-of-type {\n",
       "        vertical-align: middle;\n",
       "    }\n",
       "\n",
       "    .dataframe tbody tr th {\n",
       "        vertical-align: top;\n",
       "    }\n",
       "\n",
       "    .dataframe thead th {\n",
       "        text-align: right;\n",
       "    }\n",
       "</style>\n",
       "<table border=\"1\" class=\"dataframe\">\n",
       "  <thead>\n",
       "    <tr style=\"text-align: right;\">\n",
       "      <th></th>\n",
       "      <th>coords</th>\n",
       "      <th>x</th>\n",
       "      <th>y</th>\n",
       "      <th>likelihood</th>\n",
       "      <th>x.1</th>\n",
       "      <th>y.1</th>\n",
       "      <th>likelihood.1</th>\n",
       "      <th>x.2</th>\n",
       "      <th>y.2</th>\n",
       "      <th>likelihood.2</th>\n",
       "      <th>x.3</th>\n",
       "      <th>y.3</th>\n",
       "      <th>likelihood.3</th>\n",
       "    </tr>\n",
       "  </thead>\n",
       "  <tbody>\n",
       "    <tr>\n",
       "      <th>0</th>\n",
       "      <td>0</td>\n",
       "      <td>46.739307</td>\n",
       "      <td>39.914024</td>\n",
       "      <td>1.000000</td>\n",
       "      <td>75.254128</td>\n",
       "      <td>66.198280</td>\n",
       "      <td>1.000000</td>\n",
       "      <td>47.646152</td>\n",
       "      <td>67.741287</td>\n",
       "      <td>1.0</td>\n",
       "      <td>76.463989</td>\n",
       "      <td>40.675724</td>\n",
       "      <td>1.000000</td>\n",
       "    </tr>\n",
       "    <tr>\n",
       "      <th>1</th>\n",
       "      <td>1</td>\n",
       "      <td>46.739307</td>\n",
       "      <td>40.050922</td>\n",
       "      <td>1.000000</td>\n",
       "      <td>75.254128</td>\n",
       "      <td>67.152992</td>\n",
       "      <td>1.000000</td>\n",
       "      <td>47.646152</td>\n",
       "      <td>67.863991</td>\n",
       "      <td>1.0</td>\n",
       "      <td>76.474701</td>\n",
       "      <td>40.675724</td>\n",
       "      <td>1.000000</td>\n",
       "    </tr>\n",
       "    <tr>\n",
       "      <th>2</th>\n",
       "      <td>2</td>\n",
       "      <td>46.746220</td>\n",
       "      <td>40.050922</td>\n",
       "      <td>1.000000</td>\n",
       "      <td>75.299652</td>\n",
       "      <td>67.152992</td>\n",
       "      <td>1.000000</td>\n",
       "      <td>47.646152</td>\n",
       "      <td>67.863991</td>\n",
       "      <td>1.0</td>\n",
       "      <td>76.549980</td>\n",
       "      <td>40.675724</td>\n",
       "      <td>1.000000</td>\n",
       "    </tr>\n",
       "    <tr>\n",
       "      <th>3</th>\n",
       "      <td>3</td>\n",
       "      <td>46.746220</td>\n",
       "      <td>39.986885</td>\n",
       "      <td>1.000000</td>\n",
       "      <td>75.299652</td>\n",
       "      <td>67.004707</td>\n",
       "      <td>1.000000</td>\n",
       "      <td>47.313179</td>\n",
       "      <td>67.852524</td>\n",
       "      <td>1.0</td>\n",
       "      <td>76.549980</td>\n",
       "      <td>40.675724</td>\n",
       "      <td>1.000000</td>\n",
       "    </tr>\n",
       "    <tr>\n",
       "      <th>4</th>\n",
       "      <td>4</td>\n",
       "      <td>46.674152</td>\n",
       "      <td>39.914024</td>\n",
       "      <td>1.000000</td>\n",
       "      <td>75.299652</td>\n",
       "      <td>66.739258</td>\n",
       "      <td>1.000000</td>\n",
       "      <td>47.313179</td>\n",
       "      <td>67.852524</td>\n",
       "      <td>1.0</td>\n",
       "      <td>76.549980</td>\n",
       "      <td>40.571690</td>\n",
       "      <td>1.000000</td>\n",
       "    </tr>\n",
       "    <tr>\n",
       "      <th>...</th>\n",
       "      <td>...</td>\n",
       "      <td>...</td>\n",
       "      <td>...</td>\n",
       "      <td>...</td>\n",
       "      <td>...</td>\n",
       "      <td>...</td>\n",
       "      <td>...</td>\n",
       "      <td>...</td>\n",
       "      <td>...</td>\n",
       "      <td>...</td>\n",
       "      <td>...</td>\n",
       "      <td>...</td>\n",
       "      <td>...</td>\n",
       "    </tr>\n",
       "    <tr>\n",
       "      <th>7253</th>\n",
       "      <td>1001</td>\n",
       "      <td>110.519768</td>\n",
       "      <td>52.653149</td>\n",
       "      <td>0.999994</td>\n",
       "      <td>77.046066</td>\n",
       "      <td>121.880829</td>\n",
       "      <td>0.999985</td>\n",
       "      <td>61.978199</td>\n",
       "      <td>67.966293</td>\n",
       "      <td>1.0</td>\n",
       "      <td>127.406036</td>\n",
       "      <td>106.926987</td>\n",
       "      <td>0.999999</td>\n",
       "    </tr>\n",
       "    <tr>\n",
       "      <th>7254</th>\n",
       "      <td>1002</td>\n",
       "      <td>110.424591</td>\n",
       "      <td>52.653149</td>\n",
       "      <td>0.999998</td>\n",
       "      <td>77.645020</td>\n",
       "      <td>122.608368</td>\n",
       "      <td>0.999991</td>\n",
       "      <td>61.978199</td>\n",
       "      <td>68.049179</td>\n",
       "      <td>1.0</td>\n",
       "      <td>127.576752</td>\n",
       "      <td>107.080917</td>\n",
       "      <td>0.999999</td>\n",
       "    </tr>\n",
       "    <tr>\n",
       "      <th>7255</th>\n",
       "      <td>1003</td>\n",
       "      <td>109.802170</td>\n",
       "      <td>52.653149</td>\n",
       "      <td>0.999998</td>\n",
       "      <td>78.996323</td>\n",
       "      <td>123.689728</td>\n",
       "      <td>0.999982</td>\n",
       "      <td>61.978199</td>\n",
       "      <td>68.049179</td>\n",
       "      <td>1.0</td>\n",
       "      <td>127.576752</td>\n",
       "      <td>107.639137</td>\n",
       "      <td>1.000000</td>\n",
       "    </tr>\n",
       "    <tr>\n",
       "      <th>7256</th>\n",
       "      <td>1004</td>\n",
       "      <td>109.550613</td>\n",
       "      <td>51.880363</td>\n",
       "      <td>0.999997</td>\n",
       "      <td>78.996323</td>\n",
       "      <td>123.689728</td>\n",
       "      <td>0.999991</td>\n",
       "      <td>61.786312</td>\n",
       "      <td>68.049179</td>\n",
       "      <td>1.0</td>\n",
       "      <td>127.406036</td>\n",
       "      <td>107.639137</td>\n",
       "      <td>1.000000</td>\n",
       "    </tr>\n",
       "    <tr>\n",
       "      <th>7257</th>\n",
       "      <td>1005</td>\n",
       "      <td>108.969398</td>\n",
       "      <td>51.783688</td>\n",
       "      <td>0.999998</td>\n",
       "      <td>78.996323</td>\n",
       "      <td>123.689728</td>\n",
       "      <td>0.999983</td>\n",
       "      <td>61.653893</td>\n",
       "      <td>67.953339</td>\n",
       "      <td>1.0</td>\n",
       "      <td>127.257309</td>\n",
       "      <td>107.639137</td>\n",
       "      <td>1.000000</td>\n",
       "    </tr>\n",
       "  </tbody>\n",
       "</table>\n",
       "<p>7258 rows × 13 columns</p>\n",
       "</div>"
      ],
      "text/plain": [
       "      coords           x          y  likelihood        x.1         y.1  \\\n",
       "0          0   46.739307  39.914024    1.000000  75.254128   66.198280   \n",
       "1          1   46.739307  40.050922    1.000000  75.254128   67.152992   \n",
       "2          2   46.746220  40.050922    1.000000  75.299652   67.152992   \n",
       "3          3   46.746220  39.986885    1.000000  75.299652   67.004707   \n",
       "4          4   46.674152  39.914024    1.000000  75.299652   66.739258   \n",
       "...      ...         ...        ...         ...        ...         ...   \n",
       "7253    1001  110.519768  52.653149    0.999994  77.046066  121.880829   \n",
       "7254    1002  110.424591  52.653149    0.999998  77.645020  122.608368   \n",
       "7255    1003  109.802170  52.653149    0.999998  78.996323  123.689728   \n",
       "7256    1004  109.550613  51.880363    0.999997  78.996323  123.689728   \n",
       "7257    1005  108.969398  51.783688    0.999998  78.996323  123.689728   \n",
       "\n",
       "      likelihood.1        x.2        y.2  likelihood.2         x.3  \\\n",
       "0         1.000000  47.646152  67.741287           1.0   76.463989   \n",
       "1         1.000000  47.646152  67.863991           1.0   76.474701   \n",
       "2         1.000000  47.646152  67.863991           1.0   76.549980   \n",
       "3         1.000000  47.313179  67.852524           1.0   76.549980   \n",
       "4         1.000000  47.313179  67.852524           1.0   76.549980   \n",
       "...            ...        ...        ...           ...         ...   \n",
       "7253      0.999985  61.978199  67.966293           1.0  127.406036   \n",
       "7254      0.999991  61.978199  68.049179           1.0  127.576752   \n",
       "7255      0.999982  61.978199  68.049179           1.0  127.576752   \n",
       "7256      0.999991  61.786312  68.049179           1.0  127.406036   \n",
       "7257      0.999983  61.653893  67.953339           1.0  127.257309   \n",
       "\n",
       "             y.3  likelihood.3  \n",
       "0      40.675724      1.000000  \n",
       "1      40.675724      1.000000  \n",
       "2      40.675724      1.000000  \n",
       "3      40.675724      1.000000  \n",
       "4      40.571690      1.000000  \n",
       "...          ...           ...  \n",
       "7253  106.926987      0.999999  \n",
       "7254  107.080917      0.999999  \n",
       "7255  107.639137      1.000000  \n",
       "7256  107.639137      1.000000  \n",
       "7257  107.639137      1.000000  \n",
       "\n",
       "[7258 rows x 13 columns]"
      ]
     },
     "execution_count": 181,
     "metadata": {},
     "output_type": "execute_result"
    }
   ],
   "source": [
    "training_filtered"
   ]
  },
  {
   "cell_type": "markdown",
   "metadata": {},
   "source": [
    "### Calculating the Eucleadian Distance\n",
    "In mathematics, the Euclidean distance between two points in Euclidean space is the length of a line segment between the two points. It can be calculated from the Cartesian coordinates of the points using the Pythagorean theorem, \n",
    "therefore occasionally being called the Pythagorean distance"
   ]
  },
  {
   "cell_type": "code",
   "execution_count": 244,
   "metadata": {},
   "outputs": [
    {
     "ename": "NotImplementedError",
     "evalue": "Calculate the Eucleadian Distance",
     "output_type": "error",
     "traceback": [
      "\u001b[1;31m---------------------------------------------------------------------------\u001b[0m",
      "\u001b[1;31mNotImplementedError\u001b[0m                       Traceback (most recent call last)",
      "\u001b[1;32m<ipython-input-244-de980329755c>\u001b[0m in \u001b[0;36m<module>\u001b[1;34m\u001b[0m\n\u001b[0;32m      2\u001b[0m \u001b[1;31m#################################################\u001b[0m\u001b[1;33m\u001b[0m\u001b[1;33m\u001b[0m\u001b[1;33m\u001b[0m\u001b[0m\n\u001b[0;32m      3\u001b[0m \u001b[1;31m## a function\u001b[0m\u001b[1;33m\u001b[0m\u001b[1;33m\u001b[0m\u001b[1;33m\u001b[0m\u001b[0m\n\u001b[1;32m----> 4\u001b[1;33m \u001b[1;32mraise\u001b[0m \u001b[0mNotImplementedError\u001b[0m\u001b[1;33m(\u001b[0m\u001b[1;34m\"Calculate the Eucleadian Distance\"\u001b[0m\u001b[1;33m)\u001b[0m\u001b[1;33m\u001b[0m\u001b[1;33m\u001b[0m\u001b[0m\n\u001b[0m\u001b[0;32m      5\u001b[0m \u001b[1;31m#################################################\u001b[0m\u001b[1;33m\u001b[0m\u001b[1;33m\u001b[0m\u001b[1;33m\u001b[0m\u001b[0m\n\u001b[0;32m      6\u001b[0m \u001b[1;33m...\u001b[0m\u001b[1;33m\u001b[0m\u001b[1;33m\u001b[0m\u001b[0m\n",
      "\u001b[1;31mNotImplementedError\u001b[0m: Calculate the Eucleadian Distance"
     ]
    }
   ],
   "source": [
    "# EXERCISE_3: Difine a function for Eucleadian Distance\n",
    "#################################################\n",
    "## a function\n",
    "raise NotImplementedError(\"Calculate the Eucleadian Distance\")\n",
    "#################################################\n",
    "...\n"
   ]
  },
  {
   "cell_type": "markdown",
   "metadata": {},
   "source": [
    "[*Click for solution*](https://github.com/TeamPrigge/Lindoscope/blob/main/Excercise_3.py)\n",
    "\n"
   ]
  },
  {
   "cell_type": "code",
   "execution_count": 182,
   "metadata": {},
   "outputs": [],
   "source": [
    "result_right_left = []\n",
    "result_top_bottom = []\n",
    "for i in range (len(training_filtered[\"x.1\"])):\n",
    "    x=training_filtered[\"x\"][i]    #top\n",
    "    y=training_filtered[\"y\"][i]    #top\n",
    "    x1=training_filtered[\"x.1\"][i] #bottom\n",
    "    y1=training_filtered[\"y.2\"][i]  #bottom\n",
    "    top_bottom = calculateDistance(x,y,x1,y1)\n",
    "    result_top_bottom.append(top_bottom)\n",
    "\n",
    "    x2=training_filtered[\"x.2\"][i]    #left\n",
    "    y2=training_filtered[\"y.2\"][i]    #left\n",
    "    x3=training_filtered[\"x.3\"][i]   #right\n",
    "    y3=training_filtered[\"y.3\"][i]   #right\n",
    "    right_left = calculateDistance(x2,y2,x3,y3)\n",
    "    result_right_left.append(right_left)\n",
    "    "
   ]
  },
  {
   "cell_type": "markdown",
   "metadata": {},
   "source": [
    "### Plotting some figures\n",
    "Now we plot the Pupil diameter and compare that to the stimulation paradigme"
   ]
  },
  {
   "cell_type": "code",
   "execution_count": 236,
   "metadata": {},
   "outputs": [
    {
     "data": {
      "image/png": "[encoded data removed]",
      "text/plain": [
       "<Figure size 432x288 with 2 Axes>"
      ]
     },
     "metadata": {
      "needs_background": "light"
     },
     "output_type": "display_data"
    }
   ],
   "source": [
    "fig, ax = plt.subplots(2)\n",
    "\n",
    "\n",
    "ax[0].plot(result_top_bottom, 'tab:red' ) # top_bottom distance for pupilometry\n",
    "ax[0].set_title('top_bottom') \n",
    "ax[0].set_ylabel('Distance') \n",
    "\n",
    "ax[1].plot(frame_analogue.iloc[:,1], 'tab:green') # laser stimulation == index 1(ai1)\n",
    "ax[1].set_title('laser stimulation')\n",
    "ax[1].set_ylabel('Voltage (V)')\n",
    "ax[1].set_xlabel('fps')\n",
    "\n",
    "fig.tight_layout()\n",
    "\n"
   ]
  },
  {
   "cell_type": "code",
   "execution_count": 238,
   "metadata": {},
   "outputs": [
    {
     "data": {
      "image/png": "[encoded data removed]",
      "text/plain": [
       "<Figure size 432x288 with 2 Axes>"
      ]
     },
     "metadata": {
      "needs_background": "light"
     },
     "output_type": "display_data"
    }
   ],
   "source": [
    "\n",
    "fig, ax = plt.subplots(2)\n",
    "\n",
    "ax[0].plot(result_right_left, 'tab:blue') # right_left distance for pupilometry\n",
    "ax[0].set_title('right_left')\n",
    "ax[0].set_ylabel('Distance') \n",
    "\n",
    "ax[1].plot(frame_analogue.iloc[:,1], 'tab:green') # laser stimulation == index 1(ai1)\n",
    "ax[1].set_title('laser stimulation')\n",
    "ax[1].set_ylabel('Voltage (V)')\n",
    "ax[1].set_xlabel('fps')\n",
    "\n",
    "fig.tight_layout()"
   ]
  },
  {
   "cell_type": "code",
   "execution_count": 208,
   "metadata": {},
   "outputs": [
    {
     "name": "stdout",
     "output_type": "stream",
     "text": [
      "62987\n"
     ]
    }
   ],
   "source": [
    "# # plt.plot(frame_analogue.iloc[2420:2450,4])\n",
    "\n",
    "# # for local maxima to find the peaks of camera fps\n",
    "# stack = np.array(frame_analogue.iloc[:,4]) # column for camera\n",
    "# prev = stack[0]\n",
    "# thresh = 4 # threshold to detect the peak\n",
    "# peaks = []\n",
    "\n",
    "# for num, i in enumerate(stack[1:], 1):\n",
    "#     if i> thresh:\n",
    "#         peaks.append(num)\n",
    "#     prev = i \n",
    "\n",
    "# print(np.size(peaks))"
   ]
  },
  {
   "cell_type": "markdown",
   "metadata": {},
   "source": [
    "### Looking at some extra traces from camera and animal distance\n"
   ]
  },
  {
   "cell_type": "code",
   "execution_count": 241,
   "metadata": {},
   "outputs": [
    {
     "data": {
      "image/png": "[encoded data removed]",
      "text/plain": [
       "<Figure size 432x288 with 2 Axes>"
      ]
     },
     "metadata": {
      "needs_background": "light"
     },
     "output_type": "display_data"
    }
   ],
   "source": [
    "fig, ax = plt.subplots(2)\n",
    "\n",
    "ax[0].plot(frame_analogue.iloc[:,4], 'tab:gray') # Camera frequency\n",
    "ax[0].set_title('Camera')\n",
    "ax[0].set_ylabel('Voltage (V)')\n",
    "ax[0].set_xlabel('fps') \n",
    "\n",
    "ax[1].plot(frame_analogue.iloc[:,6], 'tab:pink') # animal distance\n",
    "ax[1].set_title('animal distance')\n",
    "ax[1].set_ylabel('Distance')\n",
    "ax[1].set_xlabel('fps')\n",
    "\n",
    "fig.tight_layout()"
   ]
  },
  {
   "cell_type": "code",
   "execution_count": null,
   "metadata": {},
   "outputs": [],
   "source": []
  },
  {
   "cell_type": "code",
   "execution_count": null,
   "metadata": {},
   "outputs": [],
   "source": []
  },
  {
   "cell_type": "code",
   "execution_count": null,
   "metadata": {},
   "outputs": [],
   "source": []
  }
 ],
 "metadata": {
  "kernelspec": {
   "display_name": "Python 3",
   "language": "python",
   "name": "python3"
  },
  "language_info": {
   "codemirror_mode": {
    "name": "ipython",
    "version": 3
   },
   "file_extension": ".py",
   "mimetype": "text/x-python",
   "name": "python",
   "nbconvert_exporter": "python",
   "pygments_lexer": "ipython3",
   "version": "3.8.3"
  }
 },
 "nbformat": 4,
 "nbformat_minor": 4
}
